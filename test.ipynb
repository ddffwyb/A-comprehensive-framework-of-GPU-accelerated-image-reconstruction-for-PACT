{
 "cells": [
  {
   "cell_type": "markdown",
   "metadata": {},
   "source": [
    "添加角度后的用时测试：\n",
    "\n",
    "Linux 系统下：\n",
    "\n",
    "1. 3090ti，无添加角度：99.91s / 100.00s / 100.18s，平均 100.0s\n",
    "2. 3090ti，添加角度：100.52s / 100.72s / 100.28，平均 100.5s\n",
    "3. 3090ti，FBP：103.84s / 103.57s / 103.70s，平均 103.7s\n",
    "\n",
    "Windows 系统下：\n",
    "\n",
    "1. 4080，无添加角度：85.45s / 85.56s / 85.22s，平均 85.4s\n",
    "2. 4080，添加角度：86.41s / 86.50s / 86.39s，平均 86.4s\n",
    "3. 4080，FBP：88.29s / 88.07s / 88.17s，平均 88.2s"
   ]
  }
 ],
 "metadata": {
  "kernelspec": {
   "display_name": "taichi",
   "language": "python",
   "name": "python3"
  },
  "language_info": {
   "codemirror_mode": {
    "name": "ipython",
    "version": 3
   },
   "file_extension": ".py",
   "mimetype": "text/x-python",
   "name": "python",
   "nbconvert_exporter": "python",
   "pygments_lexer": "ipython3",
   "version": "3.9.18"
  },
  "orig_nbformat": 4
 },
 "nbformat": 4,
 "nbformat_minor": 2
}

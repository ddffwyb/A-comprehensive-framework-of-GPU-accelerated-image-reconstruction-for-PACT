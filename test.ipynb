{
 "cells": [
  {
   "cell_type": "markdown",
   "metadata": {},
   "source": [
    "添加角度后的用时测试：\n",
    "\n",
    "1. 3090ti，无添加角度：102.17s\n",
    "2. 3090ti，添加角度：102.53s\n",
    "3. 4080，无添加角度：86.73s\n",
    "4. 4080，添加角度：87.89s\n",
    "5. 4080，FBP：89.83s"
   ]
  }
 ],
 "metadata": {
  "kernelspec": {
   "display_name": "taichi",
   "language": "python",
   "name": "python3"
  },
  "language_info": {
   "codemirror_mode": {
    "name": "ipython",
    "version": 3
   },
   "file_extension": ".py",
   "mimetype": "text/x-python",
   "name": "python",
   "nbconvert_exporter": "python",
   "pygments_lexer": "ipython3",
   "version": "3.9.15"
  },
  "orig_nbformat": 4
 },
 "nbformat": 4,
 "nbformat_minor": 2
}

{
 "cells": [
  {
   "cell_type": "code",
   "execution_count": 1,
   "metadata": {},
   "outputs": [
    {
     "name": "stdout",
     "output_type": "stream",
     "text": [
      "[Taichi] version 1.2.2, llvm 10.0.0, commit 608e4b57, win, python 3.9.16\n"
     ]
    }
   ],
   "source": [
    "import taichi as ti"
   ]
  },
  {
   "cell_type": "code",
   "execution_count": 4,
   "metadata": {},
   "outputs": [
    {
     "ename": "TaichiSyntaxError",
     "evalue": "Taichi functions cannot be called from Python-scope. (<string>)",
     "output_type": "error",
     "traceback": [
      "Traceback \u001b[1;36m(most recent call last)\u001b[0m:\n",
      "\u001b[0m  File \u001b[0;32mc:\\Users\\ddffwyb\\miniconda3\\envs\\taichi\\lib\\site-packages\\IPython\\core\\interactiveshell.py:3505\u001b[0m in \u001b[0;35mrun_code\u001b[0m\n    exec(code_obj, self.user_global_ns, self.user_ns)\u001b[0m\n",
      "\u001b[0m  Cell \u001b[0;32mIn[4], line 1\u001b[0m\n    ti.math.step(0.5, 1)\u001b[0m\n",
      "\u001b[0m  File \u001b[0;32mc:\\Users\\ddffwyb\\miniconda3\\envs\\taichi\\lib\\site-packages\\taichi\\lang\\kernel_impl.py:68\u001b[0m in \u001b[0;35mdecorated\u001b[0m\n    return fun.__call__(*args, **kwargs)\u001b[0m\n",
      "\u001b[1;36m  File \u001b[1;32mc:\\Users\\ddffwyb\\miniconda3\\envs\\taichi\\lib\\site-packages\\taichi\\lang\\kernel_impl.py:211\u001b[1;36m in \u001b[1;35m__call__\u001b[1;36m\n\u001b[1;33m    raise TaichiSyntaxError(\u001b[1;36m\n",
      "\u001b[1;36m  File \u001b[1;32m<string>\u001b[1;36m\u001b[0m\n\u001b[1;31mTaichiSyntaxError\u001b[0m\u001b[1;31m:\u001b[0m Taichi functions cannot be called from Python-scope.\n"
     ]
    }
   ],
   "source": [
    "ti.math.step(0.5, 1)"
   ]
  },
  {
   "cell_type": "markdown",
   "metadata": {},
   "source": [
    "添加角度后的用时测试：\n",
    "\n",
    "1. 无添加角度：102.17s\n",
    "2. 添加角度：102.53s\n",
    "3. 无添加角度，有优化：101.96s"
   ]
  }
 ],
 "metadata": {
  "kernelspec": {
   "display_name": "taichi",
   "language": "python",
   "name": "python3"
  },
  "language_info": {
   "codemirror_mode": {
    "name": "ipython",
    "version": 3
   },
   "file_extension": ".py",
   "mimetype": "text/x-python",
   "name": "python",
   "nbconvert_exporter": "python",
   "pygments_lexer": "ipython3",
   "version": "3.9.16"
  },
  "orig_nbformat": 4
 },
 "nbformat": 4,
 "nbformat_minor": 2
}
